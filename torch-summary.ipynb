{
 "cells": [
  {
   "cell_type": "code",
   "execution_count": 1,
   "metadata": {},
   "outputs": [],
   "source": [
    "import torch\n",
    "import torch.nn as nn\n",
    "import torch.nn.functional as F\n",
    "\n",
    "from torchsummary import summary\n",
    "\n",
    "from models.model import Net"
   ]
  },
  {
   "cell_type": "code",
   "execution_count": 2,
   "metadata": {},
   "outputs": [],
   "source": [
    "net = Net()\n",
    "inputs = torch.randn(2, 3, 32, 32)"
   ]
  },
  {
   "cell_type": "code",
   "execution_count": 3,
   "metadata": {},
   "outputs": [
    {
     "name": "stdout",
     "output_type": "stream",
     "text": [
      "==========================================================================================\n",
      "Layer (type:depth-idx)                   Output Shape              Param #\n",
      "==========================================================================================\n",
      "├─Conv2d: 1-1                            [-1, 6, 28, 28]           456\n",
      "├─MaxPool2d: 1-2                         [-1, 6, 14, 14]           --\n",
      "├─Conv2d: 1-3                            [-1, 16, 10, 10]          2,416\n",
      "├─MaxPool2d: 1-4                         [-1, 16, 5, 5]            --\n",
      "├─Linear: 1-5                            [-1, 120]                 48,120\n",
      "├─Linear: 1-6                            [-1, 84]                  10,164\n",
      "├─Linear: 1-7                            [-1, 10]                  850\n",
      "==========================================================================================\n",
      "Total params: 62,006\n",
      "Trainable params: 62,006\n",
      "Non-trainable params: 0\n",
      "Total mult-adds (M): 0.65\n",
      "==========================================================================================\n",
      "Input size (MB): 0.02\n",
      "Forward/backward pass size (MB): 0.05\n",
      "Params size (MB): 0.24\n",
      "Estimated Total Size (MB): 0.31\n",
      "==========================================================================================\n"
     ]
    },
    {
     "data": {
      "text/plain": [
       "==========================================================================================\n",
       "Layer (type:depth-idx)                   Output Shape              Param #\n",
       "==========================================================================================\n",
       "├─Conv2d: 1-1                            [-1, 6, 28, 28]           456\n",
       "├─MaxPool2d: 1-2                         [-1, 6, 14, 14]           --\n",
       "├─Conv2d: 1-3                            [-1, 16, 10, 10]          2,416\n",
       "├─MaxPool2d: 1-4                         [-1, 16, 5, 5]            --\n",
       "├─Linear: 1-5                            [-1, 120]                 48,120\n",
       "├─Linear: 1-6                            [-1, 84]                  10,164\n",
       "├─Linear: 1-7                            [-1, 10]                  850\n",
       "==========================================================================================\n",
       "Total params: 62,006\n",
       "Trainable params: 62,006\n",
       "Non-trainable params: 0\n",
       "Total mult-adds (M): 0.65\n",
       "==========================================================================================\n",
       "Input size (MB): 0.02\n",
       "Forward/backward pass size (MB): 0.05\n",
       "Params size (MB): 0.24\n",
       "Estimated Total Size (MB): 0.31\n",
       "=========================================================================================="
      ]
     },
     "execution_count": 3,
     "metadata": {},
     "output_type": "execute_result"
    }
   ],
   "source": [
    "summary(net, inputs)"
   ]
  },
  {
   "cell_type": "code",
   "execution_count": null,
   "metadata": {},
   "outputs": [],
   "source": []
  }
 ],
 "metadata": {
  "kernelspec": {
   "display_name": "Python 3",
   "language": "python",
   "name": "python3"
  },
  "language_info": {
   "codemirror_mode": {
    "name": "ipython",
    "version": 3
   },
   "file_extension": ".py",
   "mimetype": "text/x-python",
   "name": "python",
   "nbconvert_exporter": "python",
   "pygments_lexer": "ipython3",
   "version": "3.8.5"
  }
 },
 "nbformat": 4,
 "nbformat_minor": 4
}
