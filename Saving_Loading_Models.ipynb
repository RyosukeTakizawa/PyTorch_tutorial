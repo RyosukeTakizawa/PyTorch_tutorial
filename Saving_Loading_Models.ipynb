{
 "cells": [
  {
   "cell_type": "code",
   "execution_count": 1,
   "metadata": {},
   "outputs": [],
   "source": [
    "import torch\n",
    "import torchvision\n",
    "from torchvision import transforms, datasets \n",
    "from torch import nn, optim\n",
    "import torch.nn.functional as F\n",
    "\n",
    "from models.model import Net"
   ]
  },
  {
   "cell_type": "markdown",
   "metadata": {},
   "source": [
    "### データセット"
   ]
  },
  {
   "cell_type": "code",
   "execution_count": 2,
   "metadata": {},
   "outputs": [],
   "source": [
    "transform = transforms.Compose([\n",
    "    transforms.ToTensor(),\n",
    "    transforms.Normalize((0.5, 0.5, 0.5), (0.5, 0.5, 0.5))])\n",
    "\n",
    "# training dataset\n",
    "trainset = datasets.CIFAR10(root='./data', train=True,\n",
    "                                        download=False, transform=transform)\n",
    "\n",
    "trainloader = torch.utils.data.DataLoader(trainset, batch_size=4,\n",
    "                                          shuffle=False, num_workers=2)\n",
    "\n",
    "# test dataset\n",
    "testset = datasets.CIFAR10(root='./data', train=False,\n",
    "                                       download=False, transform=transform)\n",
    "\n",
    "testloader = torch.utils.data.DataLoader(testset, batch_size=4,\n",
    "                                         shuffle=False, num_workers=2)\n",
    "\n",
    "classes = ('plane', 'car', 'bird', 'cat', 'deer',\n",
    "           'dog', 'frog', 'horse', 'ship', 'truck')"
   ]
  },
  {
   "cell_type": "markdown",
   "metadata": {},
   "source": [
    "### 学習してパラメータの保存"
   ]
  },
  {
   "cell_type": "code",
   "execution_count": 3,
   "metadata": {},
   "outputs": [
    {
     "name": "stdout",
     "output_type": "stream",
     "text": [
      "[1,  2000] loss: 2.216\n",
      "[1,  4000] loss: 1.864\n",
      "[1,  6000] loss: 1.677\n",
      "[1,  8000] loss: 1.570\n",
      "[1, 10000] loss: 1.545\n",
      "[1, 12000] loss: 1.483\n",
      "[2,  2000] loss: 1.420\n",
      "[2,  4000] loss: 1.398\n",
      "[2,  6000] loss: 1.343\n",
      "[2,  8000] loss: 1.306\n",
      "[2, 10000] loss: 1.308\n",
      "[2, 12000] loss: 1.268\n",
      "Finished Training\n"
     ]
    }
   ],
   "source": [
    "# ネットワーク, 損失関数, 最適化\n",
    "model_train = Net()\n",
    "criterion = nn.CrossEntropyLoss()\n",
    "optimizer = optim.SGD(model_train.parameters(), lr=0.001, momentum=0.9)\n",
    "\n",
    "# ========== 学習 ==========\n",
    "for epoch in range(2):\n",
    "    \n",
    "    running_loss = 0.0\n",
    "    for i, data in enumerate(trainloader, 0):\n",
    "        \n",
    "        # 学習\n",
    "        inputs, labels = data  # データの取得\n",
    "        optimizer.zero_grad()  # 勾配の初期化\n",
    "        outputs = model_train(inputs)  # 順伝搬\n",
    "        loss = criterion(outputs, labels)  # 誤差の計算\n",
    "        loss.backward()   # 逆伝搬\n",
    "        optimizer.step()  # 重み更新\n",
    "        \n",
    "        # 状態の表示\n",
    "        running_loss += loss.item()\n",
    "        if i % 2000 == 1999:\n",
    "            print('[%d, %5d] loss: %.3f' %\n",
    "                  (epoch + 1, i + 1, running_loss / 2000))\n",
    "            running_loss = 0.0\n",
    "            \n",
    "print('Finished Training')\n",
    "\n",
    "\n",
    "# ========== 保存 ==========\n",
    "torch.save(model_train.state_dict(), \"./params/model.pth\")"
   ]
  },
  {
   "cell_type": "code",
   "execution_count": null,
   "metadata": {},
   "outputs": [],
   "source": []
  }
 ],
 "metadata": {
  "kernelspec": {
   "display_name": "Python 3",
   "language": "python",
   "name": "python3"
  },
  "language_info": {
   "codemirror_mode": {
    "name": "ipython",
    "version": 3
   },
   "file_extension": ".py",
   "mimetype": "text/x-python",
   "name": "python",
   "nbconvert_exporter": "python",
   "pygments_lexer": "ipython3",
   "version": "3.8.3"
  }
 },
 "nbformat": 4,
 "nbformat_minor": 4
}
